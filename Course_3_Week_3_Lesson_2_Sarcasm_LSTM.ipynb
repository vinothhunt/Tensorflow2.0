{
  "nbformat": 4,
  "nbformat_minor": 0,
  "metadata": {
    "accelerator": "GPU",
    "colab": {
      "name": "Course 3 - Week 3 - Lesson 2.ipynb",
      "provenance": [],
      "collapsed_sections": [],
      "toc_visible": true
    },
    "kernelspec": {
      "display_name": "Python 3",
      "language": "python",
      "name": "python3"
    },
    "language_info": {
      "codemirror_mode": {
        "name": "ipython",
        "version": 3
      },
      "file_extension": ".py",
      "mimetype": "text/x-python",
      "name": "python",
      "nbconvert_exporter": "python",
      "pygments_lexer": "ipython3",
      "version": "3.7.6"
    }
  },
  "cells": [
    {
      "cell_type": "code",
      "metadata": {
        "colab_type": "code",
        "id": "zX4Kg8DUTKWO",
        "colab": {}
      },
      "source": [
        "#@title Licensed under the Apache License, Version 2.0 (the \"License\");\n",
        "# you may not use this file except in compliance with the License.\n",
        "# You may obtain a copy of the License at\n",
        "#\n",
        "# https://www.apache.org/licenses/LICENSE-2.0\n",
        "#\n",
        "# Unless required by applicable law or agreed to in writing, software\n",
        "# distributed under the License is distributed on an \"AS IS\" BASIS,\n",
        "# WITHOUT WARRANTIES OR CONDITIONS OF ANY KIND, either express or implied.\n",
        "# See the License for the specific language governing permissions and\n",
        "# limitations under the License."
      ],
      "execution_count": 0,
      "outputs": []
    },
    {
      "cell_type": "markdown",
      "metadata": {
        "id": "6NXFSygVTBZn",
        "colab_type": "text"
      },
      "source": [
        "<a href=\"https://colab.research.google.com/github/lmoroney/dlaicourse/blob/master/TensorFlow%20In%20Practice/Course%203%20-%20NLP/Course%203%20-%20Week%203%20-%20Lesson%202.ipynb\" target=\"_parent\"><img src=\"https://colab.research.google.com/assets/colab-badge.svg\" alt=\"Open In Colab\"/></a>"
      ]
    },
    {
      "cell_type": "code",
      "metadata": {
        "colab_type": "code",
        "id": "jGwXGIXvFhXW",
        "colab": {
          "base_uri": "https://localhost:8080/",
          "height": 1000
        },
        "outputId": "c2f24aa3-cb81-411d-ba1c-da5c97dda851"
      },
      "source": [
        "import numpy as np\n",
        "\n",
        "import json\n",
        "import tensorflow as tf\n",
        "\n",
        "from tensorflow.keras.preprocessing.text import Tokenizer\n",
        "from tensorflow.keras.preprocessing.sequence import pad_sequences\n",
        "\n",
        "!wget --no-check-certificate \\\n",
        "    https://storage.googleapis.com/laurencemoroney-blog.appspot.com/sarcasm.json \\\n",
        "    -O /tmp/sarcasm.json\n",
        "\n",
        "vocab_size = 1000\n",
        "embedding_dim = 16\n",
        "max_length = 120\n",
        "trunc_type='post'\n",
        "padding_type='post'\n",
        "oov_tok = \"<OOV>\"\n",
        "training_size = 20000\n",
        "\n",
        "\n",
        "with open(\"/tmp/sarcasm.json\", 'r') as f:\n",
        "    datastore = json.load(f)\n",
        "\n",
        "\n",
        "sentences = []\n",
        "labels = []\n",
        "urls = []\n",
        "for item in datastore:\n",
        "    sentences.append(item['headline'])\n",
        "    labels.append(item['is_sarcastic'])\n",
        "\n",
        "training_sentences = sentences[0:training_size]\n",
        "testing_sentences = sentences[training_size:]\n",
        "training_labels = labels[0:training_size]\n",
        "testing_labels = labels[training_size:]\n",
        "\n",
        "tokenizer = Tokenizer(num_words=vocab_size, oov_token=oov_tok)\n",
        "tokenizer.fit_on_texts(training_sentences)\n",
        "\n",
        "word_index = tokenizer.word_index\n",
        "\n",
        "training_sequences = tokenizer.texts_to_sequences(training_sentences)\n",
        "training_padded = pad_sequences(training_sequences, maxlen=max_length, padding=padding_type, truncating=trunc_type)\n",
        "\n",
        "testing_sequences = tokenizer.texts_to_sequences(testing_sentences)\n",
        "testing_padded = pad_sequences(testing_sequences, maxlen=max_length, padding=padding_type, truncating=trunc_type)\n",
        "\n",
        "model = tf.keras.Sequential([\n",
        "    tf.keras.layers.Embedding(vocab_size, embedding_dim, input_length=max_length),\n",
        "    tf.keras.layers.Bidirectional(tf.keras.layers.LSTM(32)),\n",
        "    tf.keras.layers.Dense(24, activation='relu'),\n",
        "    tf.keras.layers.Dense(1, activation='sigmoid')\n",
        "])\n",
        "model.compile(loss='binary_crossentropy',optimizer='adam',metrics=['accuracy'])\n",
        "model.summary()\n",
        "\n",
        "num_epochs = 50\n",
        "training_padded = np.array(training_padded)\n",
        "training_labels = np.array(training_labels)\n",
        "testing_padded = np.array(testing_padded)\n",
        "testing_labels = np.array(testing_labels)\n",
        "history = model.fit(training_padded, training_labels, epochs=num_epochs, validation_data=(testing_padded, testing_labels), verbose=1)\n"
      ],
      "execution_count": 1,
      "outputs": [
        {
          "output_type": "stream",
          "text": [
            "--2020-06-16 09:53:43--  https://storage.googleapis.com/laurencemoroney-blog.appspot.com/sarcasm.json\n",
            "Resolving storage.googleapis.com (storage.googleapis.com)... 108.177.15.128, 2a00:1450:400c:c06::80\n",
            "Connecting to storage.googleapis.com (storage.googleapis.com)|108.177.15.128|:443... connected.\n",
            "HTTP request sent, awaiting response... 200 OK\n",
            "Length: 5643545 (5.4M) [application/json]\n",
            "Saving to: ‘/tmp/sarcasm.json’\n",
            "\n",
            "\r/tmp/sarcasm.json     0%[                    ]       0  --.-KB/s               \r/tmp/sarcasm.json    74%[=============>      ]   4.01M  16.4MB/s               \r/tmp/sarcasm.json   100%[===================>]   5.38M  21.4MB/s    in 0.3s    \n",
            "\n",
            "2020-06-16 09:53:44 (21.4 MB/s) - ‘/tmp/sarcasm.json’ saved [5643545/5643545]\n",
            "\n",
            "Model: \"sequential\"\n",
            "_________________________________________________________________\n",
            "Layer (type)                 Output Shape              Param #   \n",
            "=================================================================\n",
            "embedding (Embedding)        (None, 120, 16)           16000     \n",
            "_________________________________________________________________\n",
            "bidirectional (Bidirectional (None, 64)                12544     \n",
            "_________________________________________________________________\n",
            "dense (Dense)                (None, 24)                1560      \n",
            "_________________________________________________________________\n",
            "dense_1 (Dense)              (None, 1)                 25        \n",
            "=================================================================\n",
            "Total params: 30,129\n",
            "Trainable params: 30,129\n",
            "Non-trainable params: 0\n",
            "_________________________________________________________________\n",
            "Epoch 1/50\n",
            "625/625 [==============================] - 37s 60ms/step - loss: 0.4560 - accuracy: 0.7684 - val_loss: 0.3938 - val_accuracy: 0.8149\n",
            "Epoch 2/50\n",
            "625/625 [==============================] - 36s 58ms/step - loss: 0.3620 - accuracy: 0.8320 - val_loss: 0.3944 - val_accuracy: 0.8170\n",
            "Epoch 3/50\n",
            "625/625 [==============================] - 37s 58ms/step - loss: 0.3436 - accuracy: 0.8432 - val_loss: 0.3764 - val_accuracy: 0.8252\n",
            "Epoch 4/50\n",
            "625/625 [==============================] - 36s 58ms/step - loss: 0.3520 - accuracy: 0.8409 - val_loss: 0.3713 - val_accuracy: 0.8301\n",
            "Epoch 5/50\n",
            "625/625 [==============================] - 36s 58ms/step - loss: 0.3140 - accuracy: 0.8597 - val_loss: 0.3717 - val_accuracy: 0.8334\n",
            "Epoch 6/50\n",
            "625/625 [==============================] - 37s 59ms/step - loss: 0.3033 - accuracy: 0.8662 - val_loss: 0.3691 - val_accuracy: 0.8326\n",
            "Epoch 7/50\n",
            "625/625 [==============================] - 37s 58ms/step - loss: 0.2962 - accuracy: 0.8699 - val_loss: 0.3828 - val_accuracy: 0.8284\n",
            "Epoch 8/50\n",
            "625/625 [==============================] - 36s 58ms/step - loss: 0.2879 - accuracy: 0.8747 - val_loss: 0.3718 - val_accuracy: 0.8341\n",
            "Epoch 9/50\n",
            "625/625 [==============================] - 37s 59ms/step - loss: 0.2804 - accuracy: 0.8779 - val_loss: 0.3856 - val_accuracy: 0.8325\n",
            "Epoch 10/50\n",
            "625/625 [==============================] - 37s 59ms/step - loss: 0.2722 - accuracy: 0.8827 - val_loss: 0.3932 - val_accuracy: 0.8284\n",
            "Epoch 11/50\n",
            "625/625 [==============================] - 37s 58ms/step - loss: 0.2643 - accuracy: 0.8868 - val_loss: 0.4071 - val_accuracy: 0.8265\n",
            "Epoch 12/50\n",
            "625/625 [==============================] - 37s 58ms/step - loss: 0.2577 - accuracy: 0.8895 - val_loss: 0.4033 - val_accuracy: 0.8305\n",
            "Epoch 13/50\n",
            "625/625 [==============================] - 36s 58ms/step - loss: 0.2480 - accuracy: 0.8946 - val_loss: 0.4081 - val_accuracy: 0.8296\n",
            "Epoch 14/50\n",
            "625/625 [==============================] - 36s 58ms/step - loss: 0.2410 - accuracy: 0.8981 - val_loss: 0.4089 - val_accuracy: 0.8272\n",
            "Epoch 15/50\n",
            "625/625 [==============================] - 36s 58ms/step - loss: 0.2328 - accuracy: 0.9018 - val_loss: 0.4317 - val_accuracy: 0.8253\n",
            "Epoch 16/50\n",
            "625/625 [==============================] - 36s 58ms/step - loss: 0.2236 - accuracy: 0.9065 - val_loss: 0.4688 - val_accuracy: 0.8201\n",
            "Epoch 17/50\n",
            "625/625 [==============================] - 36s 58ms/step - loss: 0.2161 - accuracy: 0.9109 - val_loss: 0.4675 - val_accuracy: 0.8234\n",
            "Epoch 18/50\n",
            "625/625 [==============================] - 36s 58ms/step - loss: 0.2075 - accuracy: 0.9154 - val_loss: 0.4869 - val_accuracy: 0.8211\n",
            "Epoch 19/50\n",
            "625/625 [==============================] - 36s 58ms/step - loss: 0.1998 - accuracy: 0.9176 - val_loss: 0.5206 - val_accuracy: 0.8189\n",
            "Epoch 20/50\n",
            "625/625 [==============================] - 37s 59ms/step - loss: 0.1943 - accuracy: 0.9183 - val_loss: 0.5164 - val_accuracy: 0.8123\n",
            "Epoch 21/50\n",
            "625/625 [==============================] - 37s 58ms/step - loss: 0.1887 - accuracy: 0.9209 - val_loss: 0.5197 - val_accuracy: 0.8182\n",
            "Epoch 22/50\n",
            "625/625 [==============================] - 37s 59ms/step - loss: 0.1791 - accuracy: 0.9267 - val_loss: 0.5713 - val_accuracy: 0.8155\n",
            "Epoch 23/50\n",
            "625/625 [==============================] - 37s 58ms/step - loss: 0.1712 - accuracy: 0.9326 - val_loss: 0.6077 - val_accuracy: 0.8146\n",
            "Epoch 24/50\n",
            "625/625 [==============================] - 36s 58ms/step - loss: 0.1664 - accuracy: 0.9330 - val_loss: 0.6189 - val_accuracy: 0.8113\n",
            "Epoch 25/50\n",
            "625/625 [==============================] - 37s 59ms/step - loss: 0.1575 - accuracy: 0.9366 - val_loss: 0.6726 - val_accuracy: 0.8123\n",
            "Epoch 26/50\n",
            "625/625 [==============================] - 37s 59ms/step - loss: 0.1508 - accuracy: 0.9380 - val_loss: 0.7393 - val_accuracy: 0.8097\n",
            "Epoch 27/50\n",
            "625/625 [==============================] - 37s 59ms/step - loss: 0.1484 - accuracy: 0.9396 - val_loss: 0.6894 - val_accuracy: 0.8106\n",
            "Epoch 28/50\n",
            "625/625 [==============================] - 36s 58ms/step - loss: 0.1386 - accuracy: 0.9460 - val_loss: 0.7423 - val_accuracy: 0.8119\n",
            "Epoch 29/50\n",
            "625/625 [==============================] - 36s 58ms/step - loss: 0.1336 - accuracy: 0.9473 - val_loss: 0.7515 - val_accuracy: 0.8085\n",
            "Epoch 30/50\n",
            "625/625 [==============================] - 36s 58ms/step - loss: 0.1263 - accuracy: 0.9506 - val_loss: 0.8395 - val_accuracy: 0.8050\n",
            "Epoch 31/50\n",
            "625/625 [==============================] - 36s 57ms/step - loss: 0.1223 - accuracy: 0.9507 - val_loss: 0.8800 - val_accuracy: 0.8064\n",
            "Epoch 32/50\n",
            "625/625 [==============================] - 36s 58ms/step - loss: 0.1166 - accuracy: 0.9535 - val_loss: 0.9065 - val_accuracy: 0.8053\n",
            "Epoch 33/50\n",
            "625/625 [==============================] - 37s 59ms/step - loss: 0.1168 - accuracy: 0.9530 - val_loss: 0.9552 - val_accuracy: 0.8065\n",
            "Epoch 34/50\n",
            "625/625 [==============================] - 37s 58ms/step - loss: 0.1054 - accuracy: 0.9575 - val_loss: 0.9940 - val_accuracy: 0.8015\n",
            "Epoch 35/50\n",
            "625/625 [==============================] - 36s 58ms/step - loss: 0.1034 - accuracy: 0.9589 - val_loss: 1.0338 - val_accuracy: 0.8012\n",
            "Epoch 36/50\n",
            "625/625 [==============================] - 36s 58ms/step - loss: 0.0967 - accuracy: 0.9612 - val_loss: 1.0874 - val_accuracy: 0.8058\n",
            "Epoch 37/50\n",
            "625/625 [==============================] - 36s 58ms/step - loss: 0.0920 - accuracy: 0.9627 - val_loss: 1.1922 - val_accuracy: 0.8031\n",
            "Epoch 38/50\n",
            "625/625 [==============================] - 37s 59ms/step - loss: 0.0950 - accuracy: 0.9621 - val_loss: 1.1335 - val_accuracy: 0.8046\n",
            "Epoch 39/50\n",
            "625/625 [==============================] - 37s 59ms/step - loss: 0.0898 - accuracy: 0.9635 - val_loss: 1.1095 - val_accuracy: 0.8044\n",
            "Epoch 40/50\n",
            "625/625 [==============================] - 37s 59ms/step - loss: 0.0851 - accuracy: 0.9646 - val_loss: 1.1802 - val_accuracy: 0.8043\n",
            "Epoch 41/50\n",
            "625/625 [==============================] - 37s 59ms/step - loss: 0.0779 - accuracy: 0.9682 - val_loss: 1.2344 - val_accuracy: 0.7991\n",
            "Epoch 42/50\n",
            "625/625 [==============================] - 37s 59ms/step - loss: 0.0734 - accuracy: 0.9693 - val_loss: 1.3303 - val_accuracy: 0.8003\n",
            "Epoch 43/50\n",
            "625/625 [==============================] - 36s 58ms/step - loss: 0.0719 - accuracy: 0.9694 - val_loss: 1.4572 - val_accuracy: 0.8012\n",
            "Epoch 44/50\n",
            "625/625 [==============================] - 37s 59ms/step - loss: 0.0777 - accuracy: 0.9690 - val_loss: 1.3195 - val_accuracy: 0.8018\n",
            "Epoch 45/50\n",
            "625/625 [==============================] - 36s 58ms/step - loss: 0.0690 - accuracy: 0.9707 - val_loss: 1.4588 - val_accuracy: 0.8003\n",
            "Epoch 46/50\n",
            "625/625 [==============================] - 36s 58ms/step - loss: 0.0711 - accuracy: 0.9704 - val_loss: 1.5073 - val_accuracy: 0.8019\n",
            "Epoch 47/50\n",
            "625/625 [==============================] - 37s 58ms/step - loss: 0.0646 - accuracy: 0.9735 - val_loss: 1.4635 - val_accuracy: 0.8035\n",
            "Epoch 48/50\n",
            "625/625 [==============================] - 37s 58ms/step - loss: 0.0656 - accuracy: 0.9730 - val_loss: 1.4324 - val_accuracy: 0.8040\n",
            "Epoch 49/50\n",
            "625/625 [==============================] - 36s 58ms/step - loss: 0.0603 - accuracy: 0.9745 - val_loss: 1.5901 - val_accuracy: 0.8013\n",
            "Epoch 50/50\n",
            "625/625 [==============================] - 36s 58ms/step - loss: 0.0582 - accuracy: 0.9750 - val_loss: 1.6437 - val_accuracy: 0.7956\n"
          ],
          "name": "stdout"
        }
      ]
    },
    {
      "cell_type": "code",
      "metadata": {
        "colab_type": "code",
        "id": "g9DC6dmLF8DC",
        "colab": {
          "base_uri": "https://localhost:8080/",
          "height": 541
        },
        "outputId": "0142a151-ca8d-4f4a-8f6d-a0f909faa363"
      },
      "source": [
        "import matplotlib.pyplot as plt\n",
        "\n",
        "\n",
        "def plot_graphs(history, string):\n",
        "  plt.plot(history.history[string])\n",
        "  plt.plot(history.history['val_'+string])\n",
        "  plt.xlabel(\"Epochs\")\n",
        "  plt.ylabel(string)\n",
        "  plt.legend([string, 'val_'+string])\n",
        "  plt.show()\n",
        "\n",
        "plot_graphs(history, 'accuracy')\n",
        "plot_graphs(history, 'loss')"
      ],
      "execution_count": 2,
      "outputs": [
        {
          "output_type": "display_data",
          "data": {
            "image/png": "[encoded data removed]",
            "text/plain": [
              "<Figure size 432x288 with 1 Axes>"
            ]
          },
          "metadata": {
            "tags": [],
            "needs_background": "light"
          }
        },
        {
          "output_type": "display_data",
          "data": {
            "image/png": "[encoded data removed]",
            "text/plain": [
              "<Figure size 432x288 with 1 Axes>"
            ]
          },
          "metadata": {
            "tags": [],
            "needs_background": "light"
          }
        }
      ]
    },
    {
      "cell_type": "code",
      "metadata": {
        "colab_type": "code",
        "id": "7ZEZIUppGhdi",
        "colab": {}
      },
      "source": [
        "model.save(\"test.h5\")"
      ],
      "execution_count": 0,
      "outputs": []
    }
  ]
}